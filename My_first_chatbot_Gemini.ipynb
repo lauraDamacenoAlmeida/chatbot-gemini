{
  "nbformat": 4,
  "nbformat_minor": 0,
  "metadata": {
    "colab": {
      "provenance": []
    },
    "kernelspec": {
      "name": "python3",
      "display_name": "Python 3"
    },
    "language_info": {
      "name": "python"
    }
  },
  "cells": [
    {
      "cell_type": "code",
      "execution_count": 1,
      "metadata": {
        "colab": {
          "base_uri": "https://localhost:8080/"
        },
        "id": "LOXAd0kydaGP",
        "outputId": "c48faa97-9830-4eec-a359-661985334256"
      },
      "outputs": [
        {
          "output_type": "stream",
          "name": "stdout",
          "text": [
            "\u001b[2K     \u001b[90m━━━━━━━━━━━━━━━━━━━━━━━━━━━━━━━━━━━━━━━━\u001b[0m \u001b[32m150.7/150.7 kB\u001b[0m \u001b[31m2.4 MB/s\u001b[0m eta \u001b[36m0:00:00\u001b[0m\n",
            "\u001b[2K     \u001b[90m━━━━━━━━━━━━━━━━━━━━━━━━━━━━━━━━━━━━━━━━\u001b[0m \u001b[32m677.8/677.8 kB\u001b[0m \u001b[31m8.5 MB/s\u001b[0m eta \u001b[36m0:00:00\u001b[0m\n",
            "\u001b[?25h"
          ]
        }
      ],
      "source": [
        "!pip install -q -U google-generativeai"
      ]
    },
    {
      "cell_type": "code",
      "source": [
        "# Import the Python SDK\n",
        "import google.generativeai as genai\n",
        "from google.colab import userdata # para evitar de vazar minha chave\n",
        "\n",
        "api_key = userdata.get(\"SECRET_KEY\") # está lá no campo \"secrets\", addnew secret\n",
        "GOOGLE_API_KEY= api_key\n",
        "genai.configure(api_key=GOOGLE_API_KEY)\n"
      ],
      "metadata": {
        "id": "5iaXD7ogdffZ"
      },
      "execution_count": 29,
      "outputs": []
    },
    {
      "cell_type": "markdown",
      "source": [
        "Listar os modelos disponíveis"
      ],
      "metadata": {
        "id": "wsApGvc6dtob"
      }
    },
    {
      "cell_type": "code",
      "source": [
        "for m in genai.list_models():\n",
        "  if 'generateContent' in m.supported_generation_methods: #se é modelo que gera conteúdo\n",
        "    print(m.name)\n"
      ],
      "metadata": {
        "colab": {
          "base_uri": "https://localhost:8080/",
          "height": 136
        },
        "id": "5rmHSOFydqsR",
        "outputId": "813cb3e5-49f8-4deb-f0d3-29c4da6176d8"
      },
      "execution_count": 3,
      "outputs": [
        {
          "output_type": "stream",
          "name": "stdout",
          "text": [
            "models/gemini-1.0-pro\n",
            "models/gemini-1.0-pro-001\n",
            "models/gemini-1.0-pro-latest\n",
            "models/gemini-1.0-pro-vision-latest\n",
            "models/gemini-1.5-pro-latest\n",
            "models/gemini-pro\n",
            "models/gemini-pro-vision\n"
          ]
        }
      ]
    },
    {
      "cell_type": "code",
      "source": [
        "generation_config = {\n",
        "    \"candidate_count\":1,\n",
        "    \"temperature\":0.5\n",
        "}"
      ],
      "metadata": {
        "id": "0nGOZ9c4et_9"
      },
      "execution_count": 21,
      "outputs": []
    },
    {
      "cell_type": "code",
      "source": [
        "#configurações de segurança\n",
        "safety_settings = {\n",
        "    \"HARASSMENT\": \"BLOCK_NONE\",\n",
        "    \"HATE\":\"BLOCK_NONE\",\n",
        "    \"SEXUAL\": \"BLOCK_NONE\",\n",
        "    \"DANGEROUS\": \"BLOCK_NONE\"\n",
        "}"
      ],
      "metadata": {
        "id": "us22RAiJglV8"
      },
      "execution_count": 17,
      "outputs": []
    },
    {
      "cell_type": "markdown",
      "source": [
        "Inicializando o modelo"
      ],
      "metadata": {
        "id": "UiXdTRvDhhUc"
      }
    },
    {
      "cell_type": "code",
      "source": [
        "model = genai.GenerativeModel(model_name = \"gemini-1.0-pro\",\n",
        "                              safety_settings= safety_settings, generation_config = generation_config)"
      ],
      "metadata": {
        "id": "mMLkpW7TheIl"
      },
      "execution_count": 22,
      "outputs": []
    },
    {
      "cell_type": "code",
      "source": [
        "response = model.generate_content(\"Quero aprender sobre IA, me dê algumas sugestões\")\n",
        "print(response.text)"
      ],
      "metadata": {
        "colab": {
          "base_uri": "https://localhost:8080/",
          "height": 666
        },
        "id": "-buHKT7Ii3Uj",
        "outputId": "22584fde-206c-4f89-8f79-53e35d71b51f"
      },
      "execution_count": 23,
      "outputs": [
        {
          "output_type": "stream",
          "name": "stdout",
          "text": [
            "**Recursos Online:**\n",
            "\n",
            "* **Coursera:** https://www.coursera.org/browse/artificial-intelligence\n",
            "* **edX:** https://www.edx.org/learn/artificial-intelligence\n",
            "* **Udemy:** https://www.udemy.com/topic/artificial-intelligence/\n",
            "* **MIT OpenCourseWare:** https://ocw.mit.edu/courses/electrical-engineering-and-computer-science/6-034-artificial-intelligence-fall-2010/\n",
            "* **Stanford Online:** https://online.stanford.edu/courses/soe-ycsgen1-artificial-intelligence\n",
            "\n",
            "**Livros:**\n",
            "\n",
            "* \"Inteligência Artificial: Uma Abordagem Moderna\" por Stuart Russell e Peter Norvig\n",
            "* \"Aprendizado de Máquina\" por Tom Mitchell\n",
            "* \"Aprendizado Profundo\" por Ian Goodfellow, Yoshua Bengio e Aaron Courville\n",
            "* \"Inteligência Artificial: Uma Perspectiva Prática\" por Peter Norvig\n",
            "* \"Inteligência Artificial: Fundamentos e Aplicações\" por Kevin Warwick\n",
            "\n",
            "**Tutoriais e Artigos:**\n",
            "\n",
            "* **TensorFlow Tutorial:** https://www.tensorflow.org/tutorials/\n",
            "* **PyTorch Tutorial:** https://pytorch.org/tutorials/\n",
            "* **Scikit-learn Tutorial:** https://scikit-learn.org/stable/tutorial/index.html\n",
            "* **Artigo da Wikipedia sobre Inteligência Artificial:** https://en.wikipedia.org/wiki/Artificial_intelligence\n",
            "* **Artigo da Britannica sobre Inteligência Artificial:** https://www.britannica.com/technology/artificial-intelligence\n",
            "\n",
            "**Comunidades e Fóruns:**\n",
            "\n",
            "* **Reddit r/artificialintelligence:** https://www.reddit.com/r/artificialintelligence/\n",
            "* **Stack Overflow:** https://stackoverflow.com/questions/tagged/artificial-intelligence\n",
            "* **Fórum do TensorFlow:** https://discuss.tensorflow.org/\n",
            "* **Fórum do PyTorch:** https://discuss.pytorch.org/\n",
            "* **Comunidade do Scikit-learn:** https://scikit-learn.org/stable/community.html\n",
            "\n",
            "**Cursos de Certificação:**\n",
            "\n",
            "* **Certificação em Inteligência Artificial da Google:** https://www.coursera.org/specializations/google-ai\n",
            "* **Certificação em Aprendizado de Máquina da AWS:** https://aws.amazon.com/certification/machine-learning-specialty/\n",
            "* **Certificação em Aprendizado Profundo da NVIDIA:** https://developer.nvidia.com/deep-learning-ai-certification\n"
          ]
        }
      ]
    },
    {
      "cell_type": "markdown",
      "source": [
        "Criar o chatbot"
      ],
      "metadata": {
        "id": "1pC6cQEZh-RL"
      }
    },
    {
      "cell_type": "code",
      "source": [
        "chat = model.start_chat(history=[])"
      ],
      "metadata": {
        "id": "UDqmmIOUjQZJ"
      },
      "execution_count": 24,
      "outputs": []
    },
    {
      "cell_type": "code",
      "source": [],
      "metadata": {
        "id": "6_cGW-p9ks_d"
      },
      "execution_count": null,
      "outputs": []
    },
    {
      "cell_type": "code",
      "source": [
        "print(\"Olá, sou Adolfo seu colega que indica filme e livros para você. Como posso te ajudar?\")\n",
        "prompt = input('Esperando prompt: ')\n",
        "while prompt != \"fim\":\n",
        "  response = chat.send_message(prompt)\n",
        "  print(response.text)\n",
        "  #chat.history.append(prompt) a lista já está sendo preenchida na mão\n",
        "  prompt = input('Esperando prompt: ')\n"
      ],
      "metadata": {
        "colab": {
          "base_uri": "https://localhost:8080/",
          "height": 887
        },
        "id": "MPcQ-notjlf5",
        "outputId": "5ae9be9f-aa31-461b-a04e-6c1ace143598"
      },
      "execution_count": 26,
      "outputs": [
        {
          "name": "stdout",
          "output_type": "stream",
          "text": [
            "Olá, sou Adolfo seu colega que indica filme e livros para você. Como posso te ajudar?\n",
            "Esperando prompt: gosto de filmes de comédia. Quais filmes você me recomenda?\n",
            "**Clássicos da Comédia:**\n",
            "\n",
            "* **Apertem os Cintos... O Piloto Sumiu! (1980)**\n",
            "* **Os Caça-Fantasmas (1984)**\n",
            "* **Curtindo a Vida Adoidado (1986)**\n",
            "* **Uma Noite no Museu (2006)**\n",
            "* **Se Beber, Não Case! (2009)**\n",
            "\n",
            "**Comédias Românticas:**\n",
            "\n",
            "* **O Diário de Bridget Jones (2001)**\n",
            "* **Como Perder um Homem em 10 Dias (2003)**\n",
            "* **Proposta Indecente (1993)**\n",
            "* **Um Lugar Chamado Notting Hill (1999)**\n",
            "* **Simplesmente Amor (2003)**\n",
            "\n",
            "**Comédias de Ação:**\n",
            "\n",
            "* **21 Jump Street (2012)**\n",
            "* **MIB - Homens de Preto (1997)**\n",
            "* **Deadpool (2016)**\n",
            "* **Agente 86 (2008)**\n",
            "* **Arma Letal (1987)**\n",
            "\n",
            "**Comédias de Animação:**\n",
            "\n",
            "* **Toy Story (1995)**\n",
            "* **Procurando Nemo (2003)**\n",
            "* **Shrek (2001)**\n",
            "* **Madagascar (2005)**\n",
            "* **Meu Malvado Favorito (2010)**\n",
            "\n",
            "**Comédias Independentes:**\n",
            "\n",
            "* **Napoleon Dynamite (2004)**\n",
            "* **Juno (2007)**\n",
            "* **Pequena Miss Sunshine (2006)**\n",
            "* **Frances Ha (2012)**\n",
            "* **The Big Sick (2017)**\n",
            "Esperando prompt: e qual o filme com de comédia romântica com melhor avaliação?\n",
            "O filme de comédia romântica com melhor avaliação é **\"Antes do Amanhecer\" (1995)**, dirigido por Richard Linklater.\n",
            "\n",
            "O filme conta a história de Jesse (Ethan Hawke) e Céline (Julie Delpy), dois jovens que se conhecem em um trem e passam uma noite conversando e andando por Viena. A química entre os dois atores é inegável, e o filme é elogiado por seu diálogo espirituoso, personagens relacionáveis e retrato realista do amor jovem.\n",
            "\n",
            "\"Antes do Amanhecer\" recebeu elogios da crítica e do público, e tem uma avaliação de 95% no Rotten Tomatoes e uma pontuação de 8,1/10 no IMDb. Ele também foi indicado a um Oscar de Melhor Roteiro Original.\n",
            "\n",
            "As sequências do filme, \"Antes do Pôr do Sol\" (2004) e \"Antes da Meia-Noite\" (2013), também são altamente elogiadas e consideradas alguns dos melhores filmes de comédia romântica já feitos.\n",
            "Esperando prompt: fim\n"
          ]
        }
      ]
    },
    {
      "cell_type": "code",
      "source": [
        "chat.history"
      ],
      "metadata": {
        "colab": {
          "base_uri": "https://localhost:8080/"
        },
        "id": "I5-R2WR_jzip",
        "outputId": "e16b1643-7e01-414a-b477-ddf82315c0be"
      },
      "execution_count": 27,
      "outputs": [
        {
          "output_type": "execute_result",
          "data": {
            "text/plain": [
              "[parts {\n",
              "   text: \"gosto de filmes de com\\303\\251dia. Quais filmes voc\\303\\252 me recomenda?\"\n",
              " }\n",
              " role: \"user\",\n",
              " parts {\n",
              "   text: \"**Cl\\303\\241ssicos da Com\\303\\251dia:**\\n\\n* **Apertem os Cintos... O Piloto Sumiu! (1980)**\\n* **Os Ca\\303\\247a-Fantasmas (1984)**\\n* **Curtindo a Vida Adoidado (1986)**\\n* **Uma Noite no Museu (2006)**\\n* **Se Beber, N\\303\\243o Case! (2009)**\\n\\n**Com\\303\\251dias Rom\\303\\242nticas:**\\n\\n* **O Di\\303\\241rio de Bridget Jones (2001)**\\n* **Como Perder um Homem em 10 Dias (2003)**\\n* **Proposta Indecente (1993)**\\n* **Um Lugar Chamado Notting Hill (1999)**\\n* **Simplesmente Amor (2003)**\\n\\n**Com\\303\\251dias de A\\303\\247\\303\\243o:**\\n\\n* **21 Jump Street (2012)**\\n* **MIB - Homens de Preto (1997)**\\n* **Deadpool (2016)**\\n* **Agente 86 (2008)**\\n* **Arma Letal (1987)**\\n\\n**Com\\303\\251dias de Anima\\303\\247\\303\\243o:**\\n\\n* **Toy Story (1995)**\\n* **Procurando Nemo (2003)**\\n* **Shrek (2001)**\\n* **Madagascar (2005)**\\n* **Meu Malvado Favorito (2010)**\\n\\n**Com\\303\\251dias Independentes:**\\n\\n* **Napoleon Dynamite (2004)**\\n* **Juno (2007)**\\n* **Pequena Miss Sunshine (2006)**\\n* **Frances Ha (2012)**\\n* **The Big Sick (2017)**\"\n",
              " }\n",
              " role: \"model\",\n",
              " parts {\n",
              "   text: \"e qual o filme com de com\\303\\251dia rom\\303\\242ntica com melhor avalia\\303\\247\\303\\243o?\"\n",
              " }\n",
              " role: \"user\",\n",
              " parts {\n",
              "   text: \"O filme de com\\303\\251dia rom\\303\\242ntica com melhor avalia\\303\\247\\303\\243o \\303\\251 **\\\"Antes do Amanhecer\\\" (1995)**, dirigido por Richard Linklater.\\n\\nO filme conta a hist\\303\\263ria de Jesse (Ethan Hawke) e C\\303\\251line (Julie Delpy), dois jovens que se conhecem em um trem e passam uma noite conversando e andando por Viena. A qu\\303\\255mica entre os dois atores \\303\\251 ineg\\303\\241vel, e o filme \\303\\251 elogiado por seu di\\303\\241logo espirituoso, personagens relacion\\303\\241veis e retrato realista do amor jovem.\\n\\n\\\"Antes do Amanhecer\\\" recebeu elogios da cr\\303\\255tica e do p\\303\\272blico, e tem uma avalia\\303\\247\\303\\243o de 95% no Rotten Tomatoes e uma pontua\\303\\247\\303\\243o de 8,1/10 no IMDb. Ele tamb\\303\\251m foi indicado a um Oscar de Melhor Roteiro Original.\\n\\nAs sequ\\303\\252ncias do filme, \\\"Antes do P\\303\\264r do Sol\\\" (2004) e \\\"Antes da Meia-Noite\\\" (2013), tamb\\303\\251m s\\303\\243o altamente elogiadas e consideradas alguns dos melhores filmes de com\\303\\251dia rom\\303\\242ntica j\\303\\241 feitos.\"\n",
              " }\n",
              " role: \"model\"]"
            ]
          },
          "metadata": {},
          "execution_count": 27
        }
      ]
    },
    {
      "cell_type": "code",
      "source": [
        "#Melhorando a visualização\n",
        "#Código disponível em https://ai.google.dev/tutorials/python_quickstart#import_packages\n",
        "import textwrap\n",
        "from IPython.display import display\n",
        "from IPython.display import Markdown\n",
        "\n",
        "def to_markdown(text):\n",
        "  text = text.replace('•', '  *')\n",
        "  return Markdown(textwrap.indent(text, '> ', predicate=lambda _: True))\n",
        "\n",
        "#Imprimindo o histórico\n",
        "for message in chat.history:\n",
        "  display(to_markdown(f'**{message.role}**: {message.parts[0].text}'))\n",
        "  print('-------------------------------------------')"
      ],
      "metadata": {
        "colab": {
          "base_uri": "https://localhost:8080/",
          "height": 983
        },
        "id": "1_IlX-Dwl5op",
        "outputId": "d5df847d-7413-448c-9eb3-54d2f7e60550"
      },
      "execution_count": 28,
      "outputs": [
        {
          "output_type": "display_data",
          "data": {
            "text/plain": [
              "<IPython.core.display.Markdown object>"
            ],
            "text/markdown": "> **user**: gosto de filmes de comédia. Quais filmes você me recomenda?"
          },
          "metadata": {}
        },
        {
          "output_type": "stream",
          "name": "stdout",
          "text": [
            "-------------------------------------------\n"
          ]
        },
        {
          "output_type": "display_data",
          "data": {
            "text/plain": [
              "<IPython.core.display.Markdown object>"
            ],
            "text/markdown": "> **model**: **Clássicos da Comédia:**\n> \n> * **Apertem os Cintos... O Piloto Sumiu! (1980)**\n> * **Os Caça-Fantasmas (1984)**\n> * **Curtindo a Vida Adoidado (1986)**\n> * **Uma Noite no Museu (2006)**\n> * **Se Beber, Não Case! (2009)**\n> \n> **Comédias Românticas:**\n> \n> * **O Diário de Bridget Jones (2001)**\n> * **Como Perder um Homem em 10 Dias (2003)**\n> * **Proposta Indecente (1993)**\n> * **Um Lugar Chamado Notting Hill (1999)**\n> * **Simplesmente Amor (2003)**\n> \n> **Comédias de Ação:**\n> \n> * **21 Jump Street (2012)**\n> * **MIB - Homens de Preto (1997)**\n> * **Deadpool (2016)**\n> * **Agente 86 (2008)**\n> * **Arma Letal (1987)**\n> \n> **Comédias de Animação:**\n> \n> * **Toy Story (1995)**\n> * **Procurando Nemo (2003)**\n> * **Shrek (2001)**\n> * **Madagascar (2005)**\n> * **Meu Malvado Favorito (2010)**\n> \n> **Comédias Independentes:**\n> \n> * **Napoleon Dynamite (2004)**\n> * **Juno (2007)**\n> * **Pequena Miss Sunshine (2006)**\n> * **Frances Ha (2012)**\n> * **The Big Sick (2017)**"
          },
          "metadata": {}
        },
        {
          "output_type": "stream",
          "name": "stdout",
          "text": [
            "-------------------------------------------\n"
          ]
        },
        {
          "output_type": "display_data",
          "data": {
            "text/plain": [
              "<IPython.core.display.Markdown object>"
            ],
            "text/markdown": "> **user**: e qual o filme com de comédia romântica com melhor avaliação?"
          },
          "metadata": {}
        },
        {
          "output_type": "stream",
          "name": "stdout",
          "text": [
            "-------------------------------------------\n"
          ]
        },
        {
          "output_type": "display_data",
          "data": {
            "text/plain": [
              "<IPython.core.display.Markdown object>"
            ],
            "text/markdown": "> **model**: O filme de comédia romântica com melhor avaliação é **\"Antes do Amanhecer\" (1995)**, dirigido por Richard Linklater.\n> \n> O filme conta a história de Jesse (Ethan Hawke) e Céline (Julie Delpy), dois jovens que se conhecem em um trem e passam uma noite conversando e andando por Viena. A química entre os dois atores é inegável, e o filme é elogiado por seu diálogo espirituoso, personagens relacionáveis e retrato realista do amor jovem.\n> \n> \"Antes do Amanhecer\" recebeu elogios da crítica e do público, e tem uma avaliação de 95% no Rotten Tomatoes e uma pontuação de 8,1/10 no IMDb. Ele também foi indicado a um Oscar de Melhor Roteiro Original.\n> \n> As sequências do filme, \"Antes do Pôr do Sol\" (2004) e \"Antes da Meia-Noite\" (2013), também são altamente elogiadas e consideradas alguns dos melhores filmes de comédia romântica já feitos."
          },
          "metadata": {}
        },
        {
          "output_type": "stream",
          "name": "stdout",
          "text": [
            "-------------------------------------------\n"
          ]
        }
      ]
    },
    {
      "cell_type": "code",
      "source": [],
      "metadata": {
        "id": "DUHfAmgFmWe6"
      },
      "execution_count": null,
      "outputs": []
    }
  ]
}